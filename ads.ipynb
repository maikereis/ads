{
 "cells": [
  {
   "cell_type": "code",
   "execution_count": 36,
   "metadata": {},
   "outputs": [
    {
     "name": "stdout",
     "output_type": "stream",
     "text": [
      "The autoreload extension is already loaded. To reload it, use:\n",
      "  %reload_ext autoreload\n"
     ]
    }
   ],
   "source": [
    "%load_ext autoreload\n",
    "%autoreload 2\n",
    "import numpy as np\n",
    "import pandas as pd\n",
    "import matplotlib as plt\n",
    "import seaborn as sns\n",
    "import datetime\n",
    "import time\n",
    "\n",
    "plt.style.use('ggplot')\n",
    "plt.rcParams[\"figure.figsize\"] = (10,6)\n",
    "pd.options.display.max_rows = 10\n",
    "pd.options.display.max_columns = 6"
   ]
  },
  {
   "cell_type": "markdown",
   "metadata": {},
   "source": [
    "### Import data"
   ]
  },
  {
   "cell_type": "code",
   "execution_count": 37,
   "metadata": {},
   "outputs": [],
   "source": [
    "df = pd.read_csv(\"data/test.csv\", encoding='latin1', sep='[\\\";]', engine='python')\n",
    "df = df.drop([\"Unnamed: 0\",\"Unnamed: 19\"],axis=1)"
   ]
  },
  {
   "cell_type": "code",
   "execution_count": 38,
   "metadata": {},
   "outputs": [
    {
     "data": {
      "text/plain": [
       "Index(['Título do vídeo', 'Editor', 'Dispositivo de impressão',\n",
       "       'Data de publicação', 'Alcance', 'Valor Gasto (BRL)', 'Click-to-Play',\n",
       "       'Visualizações 10 segundos', 'Visualizações de 25% do vídeo',\n",
       "       'Visualizações de 50% do vídeo', 'Visualizações de 75% do vídeo',\n",
       "       'Visualizações de 95% do vídeo', 'Tempo médio assistido do vídeo',\n",
       "       'Ações', 'Compartilhamentos da publicação', 'Comentários na publicação',\n",
       "       'Envolvimento com a publicação', 'Reações à publicação'],\n",
       "      dtype='object')"
      ]
     },
     "execution_count": 38,
     "metadata": {},
     "output_type": "execute_result"
    }
   ],
   "source": [
    "df.columns"
   ]
  },
  {
   "cell_type": "markdown",
   "metadata": {},
   "source": [
    "### 1. Explore Data"
   ]
  },
  {
   "cell_type": "code",
   "execution_count": 39,
   "metadata": {},
   "outputs": [
    {
     "name": "stdout",
     "output_type": "stream",
     "text": [
      "<class 'pandas.core.frame.DataFrame'>\n",
      "RangeIndex: 424 entries, 0 to 423\n",
      "Data columns (total 18 columns):\n",
      " #   Column                           Non-Null Count  Dtype  \n",
      "---  ------                           --------------  -----  \n",
      " 0   Título do vídeo                  424 non-null    object \n",
      " 1   Editor                           424 non-null    object \n",
      " 2   Dispositivo de impressão         424 non-null    object \n",
      " 3   Data de publicação               424 non-null    int64  \n",
      " 4   Alcance                          424 non-null    int64  \n",
      " 5   Valor Gasto (BRL)                424 non-null    object \n",
      " 6   Click-to-Play                    413 non-null    float64\n",
      " 7   Visualizações 10 segundos        406 non-null    float64\n",
      " 8   Visualizações de 25% do vídeo    404 non-null    float64\n",
      " 9   Visualizações de 50% do vídeo    395 non-null    float64\n",
      " 10  Visualizações de 75% do vídeo    393 non-null    float64\n",
      " 11  Visualizações de 95% do vídeo    388 non-null    float64\n",
      " 12  Tempo médio assistido do vídeo   424 non-null    object \n",
      " 13  Ações                            424 non-null    int64  \n",
      " 14  Compartilhamentos da publicação  269 non-null    float64\n",
      " 15  Comentários na publicação        223 non-null    float64\n",
      " 16  Envolvimento com a publicação    413 non-null    float64\n",
      " 17  Reações à publicação             311 non-null    float64\n",
      "dtypes: float64(10), int64(3), object(5)\n",
      "memory usage: 59.8+ KB\n"
     ]
    }
   ],
   "source": [
    "df.info()"
   ]
  },
  {
   "cell_type": "code",
   "execution_count": 40,
   "metadata": {},
   "outputs": [
    {
     "data": {
      "text/html": [
       "<div>\n",
       "<style scoped>\n",
       "    .dataframe tbody tr th:only-of-type {\n",
       "        vertical-align: middle;\n",
       "    }\n",
       "\n",
       "    .dataframe tbody tr th {\n",
       "        vertical-align: top;\n",
       "    }\n",
       "\n",
       "    .dataframe thead th {\n",
       "        text-align: right;\n",
       "    }\n",
       "</style>\n",
       "<table border=\"1\" class=\"dataframe\">\n",
       "  <thead>\n",
       "    <tr style=\"text-align: right;\">\n",
       "      <th></th>\n",
       "      <th>Data de publicação</th>\n",
       "      <th>Alcance</th>\n",
       "      <th>Click-to-Play</th>\n",
       "      <th>...</th>\n",
       "      <th>Comentários na publicação</th>\n",
       "      <th>Envolvimento com a publicação</th>\n",
       "      <th>Reações à publicação</th>\n",
       "    </tr>\n",
       "  </thead>\n",
       "  <tbody>\n",
       "    <tr>\n",
       "      <th>count</th>\n",
       "      <td>424.000000</td>\n",
       "      <td>424.000000</td>\n",
       "      <td>413.000000</td>\n",
       "      <td>...</td>\n",
       "      <td>223.000000</td>\n",
       "      <td>413.000000</td>\n",
       "      <td>311.000000</td>\n",
       "    </tr>\n",
       "    <tr>\n",
       "      <th>mean</th>\n",
       "      <td>42993.382075</td>\n",
       "      <td>58992.436321</td>\n",
       "      <td>25342.629540</td>\n",
       "      <td>...</td>\n",
       "      <td>42.049327</td>\n",
       "      <td>25663.869249</td>\n",
       "      <td>311.890675</td>\n",
       "    </tr>\n",
       "    <tr>\n",
       "      <th>std</th>\n",
       "      <td>8.709130</td>\n",
       "      <td>111287.778454</td>\n",
       "      <td>47790.219811</td>\n",
       "      <td>...</td>\n",
       "      <td>69.621708</td>\n",
       "      <td>48424.058613</td>\n",
       "      <td>575.316553</td>\n",
       "    </tr>\n",
       "    <tr>\n",
       "      <th>min</th>\n",
       "      <td>42979.000000</td>\n",
       "      <td>0.000000</td>\n",
       "      <td>1.000000</td>\n",
       "      <td>...</td>\n",
       "      <td>1.000000</td>\n",
       "      <td>1.000000</td>\n",
       "      <td>1.000000</td>\n",
       "    </tr>\n",
       "    <tr>\n",
       "      <th>25%</th>\n",
       "      <td>42986.000000</td>\n",
       "      <td>46.000000</td>\n",
       "      <td>26.000000</td>\n",
       "      <td>...</td>\n",
       "      <td>3.000000</td>\n",
       "      <td>28.000000</td>\n",
       "      <td>8.000000</td>\n",
       "    </tr>\n",
       "    <tr>\n",
       "      <th>50%</th>\n",
       "      <td>42993.000000</td>\n",
       "      <td>3028.000000</td>\n",
       "      <td>1800.000000</td>\n",
       "      <td>...</td>\n",
       "      <td>14.000000</td>\n",
       "      <td>1821.000000</td>\n",
       "      <td>45.000000</td>\n",
       "    </tr>\n",
       "    <tr>\n",
       "      <th>75%</th>\n",
       "      <td>43001.000000</td>\n",
       "      <td>59629.500000</td>\n",
       "      <td>25164.000000</td>\n",
       "      <td>...</td>\n",
       "      <td>49.500000</td>\n",
       "      <td>25518.000000</td>\n",
       "      <td>247.000000</td>\n",
       "    </tr>\n",
       "    <tr>\n",
       "      <th>max</th>\n",
       "      <td>43008.000000</td>\n",
       "      <td>579119.000000</td>\n",
       "      <td>284866.000000</td>\n",
       "      <td>...</td>\n",
       "      <td>478.000000</td>\n",
       "      <td>287129.000000</td>\n",
       "      <td>3723.000000</td>\n",
       "    </tr>\n",
       "  </tbody>\n",
       "</table>\n",
       "<p>8 rows × 13 columns</p>\n",
       "</div>"
      ],
      "text/plain": [
       "       Data de publicação        Alcance  Click-to-Play  ...  \\\n",
       "count          424.000000     424.000000     413.000000  ...   \n",
       "mean         42993.382075   58992.436321   25342.629540  ...   \n",
       "std              8.709130  111287.778454   47790.219811  ...   \n",
       "min          42979.000000       0.000000       1.000000  ...   \n",
       "25%          42986.000000      46.000000      26.000000  ...   \n",
       "50%          42993.000000    3028.000000    1800.000000  ...   \n",
       "75%          43001.000000   59629.500000   25164.000000  ...   \n",
       "max          43008.000000  579119.000000  284866.000000  ...   \n",
       "\n",
       "       Comentários na publicação  Envolvimento com a publicação  \\\n",
       "count                 223.000000                     413.000000   \n",
       "mean                   42.049327                   25663.869249   \n",
       "std                    69.621708                   48424.058613   \n",
       "min                     1.000000                       1.000000   \n",
       "25%                     3.000000                      28.000000   \n",
       "50%                    14.000000                    1821.000000   \n",
       "75%                    49.500000                   25518.000000   \n",
       "max                   478.000000                  287129.000000   \n",
       "\n",
       "       Reações à publicação  \n",
       "count            311.000000  \n",
       "mean             311.890675  \n",
       "std              575.316553  \n",
       "min                1.000000  \n",
       "25%                8.000000  \n",
       "50%               45.000000  \n",
       "75%              247.000000  \n",
       "max             3723.000000  \n",
       "\n",
       "[8 rows x 13 columns]"
      ]
     },
     "execution_count": 40,
     "metadata": {},
     "output_type": "execute_result"
    }
   ],
   "source": [
    "df.describe()"
   ]
  },
  {
   "cell_type": "code",
   "execution_count": 41,
   "metadata": {},
   "outputs": [
    {
     "data": {
      "text/html": [
       "<div>\n",
       "<style scoped>\n",
       "    .dataframe tbody tr th:only-of-type {\n",
       "        vertical-align: middle;\n",
       "    }\n",
       "\n",
       "    .dataframe tbody tr th {\n",
       "        vertical-align: top;\n",
       "    }\n",
       "\n",
       "    .dataframe thead th {\n",
       "        text-align: right;\n",
       "    }\n",
       "</style>\n",
       "<table border=\"1\" class=\"dataframe\">\n",
       "  <thead>\n",
       "    <tr style=\"text-align: right;\">\n",
       "      <th></th>\n",
       "      <th>Título do vídeo</th>\n",
       "      <th>Editor</th>\n",
       "      <th>Dispositivo de impressão</th>\n",
       "      <th>...</th>\n",
       "      <th>Comentários na publicação</th>\n",
       "      <th>Envolvimento com a publicação</th>\n",
       "      <th>Reações à publicação</th>\n",
       "    </tr>\n",
       "  </thead>\n",
       "  <tbody>\n",
       "    <tr>\n",
       "      <th>0</th>\n",
       "      <td>Vídeo 13</td>\n",
       "      <td>Marcos</td>\n",
       "      <td>Smartphone Android</td>\n",
       "      <td>...</td>\n",
       "      <td>114.0</td>\n",
       "      <td>102441.0</td>\n",
       "      <td>1413.0</td>\n",
       "    </tr>\n",
       "    <tr>\n",
       "      <th>1</th>\n",
       "      <td>Vídeo 13</td>\n",
       "      <td>Marcos</td>\n",
       "      <td>iPad</td>\n",
       "      <td>...</td>\n",
       "      <td>1.0</td>\n",
       "      <td>1567.0</td>\n",
       "      <td>6.0</td>\n",
       "    </tr>\n",
       "    <tr>\n",
       "      <th>2</th>\n",
       "      <td>Vídeo 13</td>\n",
       "      <td>Marcos</td>\n",
       "      <td>Desktop</td>\n",
       "      <td>...</td>\n",
       "      <td>10.0</td>\n",
       "      <td>9978.0</td>\n",
       "      <td>91.0</td>\n",
       "    </tr>\n",
       "    <tr>\n",
       "      <th>3</th>\n",
       "      <td>Vídeo 13</td>\n",
       "      <td>Marcos</td>\n",
       "      <td>iPhone</td>\n",
       "      <td>...</td>\n",
       "      <td>27.0</td>\n",
       "      <td>29522.0</td>\n",
       "      <td>239.0</td>\n",
       "    </tr>\n",
       "    <tr>\n",
       "      <th>4</th>\n",
       "      <td>Vídeo 13</td>\n",
       "      <td>Marcos</td>\n",
       "      <td>Outros</td>\n",
       "      <td>...</td>\n",
       "      <td>NaN</td>\n",
       "      <td>4.0</td>\n",
       "      <td>NaN</td>\n",
       "    </tr>\n",
       "  </tbody>\n",
       "</table>\n",
       "<p>5 rows × 18 columns</p>\n",
       "</div>"
      ],
      "text/plain": [
       "  Título do vídeo  Editor Dispositivo de impressão  ...  \\\n",
       "0        Vídeo 13  Marcos       Smartphone Android  ...   \n",
       "1        Vídeo 13  Marcos                     iPad  ...   \n",
       "2        Vídeo 13  Marcos                  Desktop  ...   \n",
       "3        Vídeo 13  Marcos                   iPhone  ...   \n",
       "4        Vídeo 13  Marcos                   Outros  ...   \n",
       "\n",
       "   Comentários na publicação  Envolvimento com a publicação  \\\n",
       "0                      114.0                       102441.0   \n",
       "1                        1.0                         1567.0   \n",
       "2                       10.0                         9978.0   \n",
       "3                       27.0                        29522.0   \n",
       "4                        NaN                            4.0   \n",
       "\n",
       "  Reações à publicação  \n",
       "0               1413.0  \n",
       "1                  6.0  \n",
       "2                 91.0  \n",
       "3                239.0  \n",
       "4                  NaN  \n",
       "\n",
       "[5 rows x 18 columns]"
      ]
     },
     "execution_count": 41,
     "metadata": {},
     "output_type": "execute_result"
    }
   ],
   "source": [
    "df.head()"
   ]
  },
  {
   "cell_type": "markdown",
   "metadata": {},
   "source": [
    "### 2. Limpeza de dados"
   ]
  },
  {
   "cell_type": "markdown",
   "metadata": {},
   "source": [
    "#### Consertando formato dos dados"
   ]
  },
  {
   "cell_type": "markdown",
   "metadata": {},
   "source": [
    "A coluna \"Valor Gasto (BRL)\" está com valores definidos como `string`, utilizando ',' ao invés de '.' como o padrão americado de serapação decimal pede. A ',' será substituída e o valor convertido para `float`."
   ]
  },
  {
   "cell_type": "code",
   "execution_count": 42,
   "metadata": {},
   "outputs": [
    {
     "data": {
      "text/plain": [
       "0    675.574960\n",
       "1     14.676204\n",
       "2     55.048255\n",
       "3    246.438348\n",
       "4      0.039962\n",
       "Name: Valor Gasto (BRL), dtype: float64"
      ]
     },
     "execution_count": 42,
     "metadata": {},
     "output_type": "execute_result"
    }
   ],
   "source": [
    "\n",
    "df['Valor Gasto (BRL)'] = df['Valor Gasto (BRL)'].str.replace(',','.').astype(float)\n",
    "# Mostra uma prévia\n",
    "df['Valor Gasto (BRL)'].head(5)"
   ]
  },
  {
   "cell_type": "markdown",
   "metadata": {},
   "source": [
    "Já a coluna \"Tempo médio assistido do vídeo\" está com os valores definidos em string, precisa ser convertido para inteiro/flutuante para que cálculos possam ser feitos. Será utilizado o tempo em segundos(s) do vídeo, no formato `float`"
   ]
  },
  {
   "cell_type": "code",
   "execution_count": 43,
   "metadata": {},
   "outputs": [
    {
     "data": {
      "text/plain": [
       "0     8.0\n",
       "1     8.0\n",
       "2     7.0\n",
       "3     7.0\n",
       "4    29.0\n",
       "Name: Tempo médio assistido do vídeo (s), dtype: float64"
      ]
     },
     "execution_count": 43,
     "metadata": {},
     "output_type": "execute_result"
    }
   ],
   "source": [
    "\n",
    "# Converte a string para datetime\n",
    "df['Tempo médio assistido do vídeo (s)'] = df['Tempo médio assistido do vídeo'].apply(lambda x: time.strptime(x,'%H:%M:%S'))\n",
    "# Retorna o tempo em segundos\n",
    "df['Tempo médio assistido do vídeo (s)'] = df['Tempo médio assistido do vídeo (s)'].apply(lambda x: datetime.timedelta(hours=x.tm_hour,minutes=x.tm_min,seconds=x.tm_sec).total_seconds())\n",
    "# Mostra uma prévia\n",
    "df['Tempo médio assistido do vídeo (s)'].head(5)"
   ]
  },
  {
   "cell_type": "markdown",
   "metadata": {},
   "source": [
    "A coluna \"Data de publicação\" está no formato `DATEVALUE` do Excel, que corresponde ao número de dias passados a partir de `01/01/1900`."
   ]
  },
  {
   "cell_type": "code",
   "execution_count": 44,
   "metadata": {},
   "outputs": [],
   "source": [
    "\n",
    "# Converte de DATEVALUE para datetime\n",
    "df['Data de publicação'] = df['Data de publicação'].apply(lambda x: datetime.date(1900, 1, 1) + datetime.timedelta(days=x))\n",
    "# Cria uma coluna de dias\n",
    "df['Dia'] = df['Data de publicação'].apply(lambda x: x.day)\n",
    "# Cria uma coluna de dias da semana\n",
    "df['Dia da Semana'] = df['Data de publicação'].apply(lambda x: x.strftime(\"%A\"))"
   ]
  },
  {
   "cell_type": "markdown",
   "metadata": {},
   "source": [
    "#### Preenchendo Valores Faltantes"
   ]
  },
  {
   "cell_type": "markdown",
   "metadata": {},
   "source": [
    "Abaixo podem ser vistos os valores faltantes de cada coluna"
   ]
  },
  {
   "cell_type": "code",
   "execution_count": 45,
   "metadata": {},
   "outputs": [
    {
     "data": {
      "image/png": "[encoded data removed]",
      "text/plain": [
       "<Figure size 720x432 with 1 Axes>"
      ]
     },
     "metadata": {},
     "output_type": "display_data"
    }
   ],
   "source": [
    "missing = df.isnull().sum()\n",
    "missing = missing[missing > 0].sort_values(ascending=False)\n",
    "# Plot data\n",
    "g = sns.barplot(y=missing.index, x=missing.values)\n",
    "g.set_title('Amount of missing data')\n",
    "g.set_xlabel(\"Quantidade de dados faltantes\")\n",
    "g.tick_params(axis='x', rotation=90)"
   ]
  },
  {
   "cell_type": "code",
   "execution_count": 46,
   "metadata": {},
   "outputs": [],
   "source": [
    "df[missing.index] = df[missing.index].fillna(0)"
   ]
  },
  {
   "cell_type": "markdown",
   "metadata": {},
   "source": [
    "### 3. Perguntas"
   ]
  },
  {
   "cell_type": "markdown",
   "metadata": {},
   "source": [
    "### Qual o vídeo que teve o maior alcance?"
   ]
  },
  {
   "cell_type": "code",
   "execution_count": 47,
   "metadata": {},
   "outputs": [
    {
     "name": "stdout",
     "output_type": "stream",
     "text": [
      "O vídeo com maior alcance foi: Vídeo 11\n"
     ]
    }
   ],
   "source": [
    "highest_reach_video = df.loc[df['Alcance'].idxmax(), 'Título do vídeo']\n",
    "print(f\"O vídeo com maior alcance foi: {highest_reach_video}\")"
   ]
  },
  {
   "cell_type": "markdown",
   "metadata": {},
   "source": [
    "### Qual dispositivo que alcançou o maior número de pessoas?"
   ]
  },
  {
   "cell_type": "code",
   "execution_count": 48,
   "metadata": {},
   "outputs": [
    {
     "name": "stdout",
     "output_type": "stream",
     "text": [
      "O dispositivo com maior alcance foi: Smartphone Android\n"
     ]
    }
   ],
   "source": [
    "highest_reach_device = df.loc[df['Alcance'].idxmax(), 'Dispositivo de impressão']\n",
    "print(f\"O dispositivo com maior alcance foi: {highest_reach_device}\")"
   ]
  },
  {
   "cell_type": "markdown",
   "metadata": {},
   "source": [
    "### Qual foi o CPV75% (custo por visualização de 75%) médio de todos os vídeos?"
   ]
  },
  {
   "cell_type": "code",
   "execution_count": 49,
   "metadata": {},
   "outputs": [
    {
     "name": "stdout",
     "output_type": "stream",
     "text": [
      "O CPV75% foi: R$ 0,0513\n"
     ]
    }
   ],
   "source": [
    "\n",
    "# Seleciona dados apenas dos vídeos que tiveram 75% de visualização\n",
    "viz75 = df[df['Visualizações de 75% do vídeo'] != 0]\n",
    "# Calcula o CPV para os vídeos com 75% de visualização\n",
    "cpv75_all = viz75['Valor Gasto (BRL)'].div(viz75['Visualizações de 75% do vídeo'])\n",
    "# Calcula a média do CPV\n",
    "mean_cpv75_all = np.mean(cpv75_all)\n",
    "print(f\"O CPV75% foi: R$ {mean_cpv75_all:0.4f}\".replace('.',','))"
   ]
  },
  {
   "cell_type": "markdown",
   "metadata": {},
   "source": [
    "### Qual o valor médio do CVP75% de Desktop?"
   ]
  },
  {
   "cell_type": "code",
   "execution_count": 50,
   "metadata": {},
   "outputs": [
    {
     "name": "stdout",
     "output_type": "stream",
     "text": [
      "O CPV75% para Desktop foi: R$ 0,0447\n"
     ]
    }
   ],
   "source": [
    "# Seleciona dados apenas dos dispositivos Desktop\n",
    "desktop = df[df['Dispositivo de impressão'] == 'Desktop']\n",
    "# Dos dispositivos desktop, seleciona dados apenas dos que tiveram vídeos com 75% de visualização\n",
    "desktop_viz75 = desktop[desktop['Visualizações de 75% do vídeo'] != 0]\n",
    "# Calcula qual foi o CPV para os vídeos no desktop com 75% de visualização\n",
    "desktop_cpv75 = desktop_viz75['Valor Gasto (BRL)'].div(desktop_viz75['Visualizações de 75% do vídeo'])\n",
    "# Calcula a média do CPV\n",
    "mean_desktop_cpv75_all = np.mean(desktop_cpv75)\n",
    "print(f\"O CPV75% para Desktop foi: R$ {mean_desktop_cpv75_all:0.4f}\".replace('.',','))"
   ]
  },
  {
   "cell_type": "markdown",
   "metadata": {},
   "source": [
    "### Qual foi o dia do mês que teve o menor valor de CPV75%?"
   ]
  },
  {
   "cell_type": "code",
   "execution_count": 51,
   "metadata": {},
   "outputs": [
    {
     "name": "stdout",
     "output_type": "stream",
     "text": [
      "O dia do mês com menor CPV75% foi: 05\n"
     ]
    }
   ],
   "source": [
    "# Calcula os CPV75% e retorna o índice do menor valor\n",
    "lowest_cpv75_idx = (df['Valor Gasto (BRL)']/df['Visualizações de 75% do vídeo']).idxmin()\n",
    "# Filtra a entrada na linha=lowest_cpv75_idx e coluna='Data de publicação'\n",
    "lowest_cpv75_date = df.loc[lowest_cpv75_idx, 'Data de publicação']\n",
    "print(f\"O dia do mês com menor CPV75% foi: {lowest_cpv75_date.strftime('%d')}\")"
   ]
  },
  {
   "cell_type": "markdown",
   "metadata": {},
   "source": [
    "### Qual dia da semana teve a melhor média de visualizações de 75%?"
   ]
  },
  {
   "cell_type": "code",
   "execution_count": 52,
   "metadata": {},
   "outputs": [
    {
     "name": "stdout",
     "output_type": "stream",
     "text": [
      "O dia com melhor média de viz foi: Friday\n"
     ]
    }
   ],
   "source": [
    "# Agrupa os dados pelo dia da semana e retorna a média de vizualização de cada dia\n",
    "weekday_viz75 = df[['Visualizações de 75% do vídeo','Dia da Semana']].groupby('Dia da Semana').mean()\n",
    "besk_weekday_viz75 = weekday_viz75.idxmax()[0]\n",
    "besk_weekday_viz75\n",
    "print(f\"O dia com melhor média de viz foi: {besk_weekday_viz75}\")"
   ]
  },
  {
   "cell_type": "markdown",
   "metadata": {},
   "source": [
    "### Qual dia da semana obteve o CPV75% mais caro para Iphone?"
   ]
  },
  {
   "cell_type": "code",
   "execution_count": 53,
   "metadata": {},
   "outputs": [
    {
     "name": "stdout",
     "output_type": "stream",
     "text": [
      "O dia da semana com CPV75% mais caro para o iPhone foi: Tue\n"
     ]
    }
   ],
   "source": [
    "# Seleciona dados apenas dos dispositivos iPhone\n",
    "iphone = df[df['Dispositivo de impressão'] == 'iPhone']\n",
    "# Dos dispositivos iPhone, seleciona dados apenas dos que tiveram vídeos com 75% de visualização\n",
    "iphone_viz75 = iphone[iphone['Visualizações de 75% do vídeo'] != 0]\n",
    "# Calcula qual foi o CPV para os vídeos no iPhone com 75% de visualização\n",
    "iphone_cpv75 = iphone_viz75['Valor Gasto (BRL)'].div(iphone_viz75['Visualizações de 75% do vídeo'])\n",
    "# Calcula qual foi o dia da semana CPV mais caro para os dados selecionados\n",
    "highest_cpv75_iphone_date = iphone_viz75.loc[iphone_cpv75.idxmax(), 'Data de publicação']\n",
    "print(f\"O dia da semana com CPV75% mais caro para o iPhone foi: {highest_cpv75_iphone_date.strftime('%a')}\")"
   ]
  },
  {
   "cell_type": "markdown",
   "metadata": {},
   "source": [
    "### Qual é o tempo médio assistido de todos os vídeos?"
   ]
  },
  {
   "cell_type": "code",
   "execution_count": 54,
   "metadata": {},
   "outputs": [
    {
     "name": "stdout",
     "output_type": "stream",
     "text": [
      "O tempo médio assistido foi: 10.6863 segundos\n"
     ]
    }
   ],
   "source": [
    "# Retorna a média da média de tempo assistido\n",
    "avg_time_viz = df['Tempo médio assistido do vídeo (s)'].mean()\n",
    "avg_time_viz\n",
    "print(f\"O tempo médio assistido foi: {avg_time_viz:0.4f} segundos\")"
   ]
  },
  {
   "cell_type": "markdown",
   "metadata": {},
   "source": [
    "### Qual dispositivo tem o maior tempo médio assistido? "
   ]
  },
  {
   "cell_type": "code",
   "execution_count": 55,
   "metadata": {},
   "outputs": [
    {
     "name": "stdout",
     "output_type": "stream",
     "text": [
      "O dispositivo com maior tempo médio assistido foi: Outros\n"
     ]
    }
   ],
   "source": [
    "# Agrupa a média do tempo de visualização por dispositivo\n",
    "viz_time_by_device = df[['Dispositivo de impressão','Tempo médio assistido do vídeo (s)']].groupby('Dispositivo de impressão').mean()\n",
    "highest_viz_time_device = viz_time_by_device.sort_values('Tempo médio assistido do vídeo (s)').idxmax()[0]\n",
    "highest_viz_time_device\n",
    "print(f\"O dispositivo com maior tempo médio assistido foi: {highest_viz_time_device}\")"
   ]
  },
  {
   "cell_type": "markdown",
   "metadata": {},
   "source": [
    "### Das pessoas que deram play, qual vídeo foi o que mais segurou-as até o final?"
   ]
  },
  {
   "cell_type": "code",
   "execution_count": 56,
   "metadata": {},
   "outputs": [
    {
     "name": "stdout",
     "output_type": "stream",
     "text": [
      "O vídeo em que as pessoas deram play e assistiram por mais tempo foi: Vídeo 12\n"
     ]
    }
   ],
   "source": [
    "# Filter only values where the video was clicked and the vizualization rate is 95% or higher\n",
    "clicked_full_viz = df[(df['Click-to-Play'] > 0) & (df['Visualizações de 95% do vídeo']>0)]\n",
    "# Find the index of the highest 95% viz\n",
    "max_value_idx = clicked_full_viz['Visualizações de 95% do vídeo'].idxmax()\n",
    "# Find the video name with the highest 95% viz\n",
    "highets_play_time_viz = clicked_full_viz.loc[max_value_idx,'Título do vídeo']\n",
    "print(f\"O vídeo em que as pessoas deram play e assistiram por mais tempo foi: {highets_play_time_viz}\")"
   ]
  },
  {
   "cell_type": "markdown",
   "metadata": {},
   "source": [
    "### Suponhamos que você fosse promover apenas um dos editores que produziram os vídeos cujos resultados estão no arquivo. Qual dos editores você promoveria? Por quê? Sua resposta deve ser baseada em dados, lógica e premissas."
   ]
  },
  {
   "cell_type": "markdown",
   "metadata": {},
   "source": [
    "$Average~view~time =\\frac{Total~video~view~time}{Video~starts}$\n",
    "\n",
    "Então\n",
    "\n",
    "$Total~video~view~time =  Video~starts \\times Average~view~time$\n",
    "\n",
    "[ref](https://support.google.com/admanager/answer/2759433?hl=en#calculated-metric)"
   ]
  },
  {
   "cell_type": "code",
   "execution_count": 57,
   "metadata": {},
   "outputs": [],
   "source": [
    "# Tempo total assitido\n",
    "df['Total de tempo assistido (s)'] = df['Click-to-Play'].mul(df['Tempo médio assistido do vídeo (s)'])\n",
    "\n",
    "df['Videos finalizados'] = df['Visualizações de 95% do vídeo']/df['Click-to-Play']\n",
    "\n",
    "# Custo por Click\n",
    "clicked  = df[df['Click-to-Play'] != 0]\n",
    "df['CPC'] = clicked['Valor Gasto (BRL)'].div(clicked['Click-to-Play'])\n",
    "\n",
    "# Custo por Ação\n",
    "clicked_action  = df[(df['Click-to-Play'] > 0) & (df['Ações'] > 0)]\n",
    "df['CPA'] = clicked_action['Valor Gasto (BRL)'].div(clicked_action['Ações'])\n",
    "\n",
    "# Total de Engajamento\n",
    "df['Engajamento'] = df[['Compartilhamentos da publicação', 'Comentários na publicação', 'Envolvimento com a publicação', 'Reações à publicação']].sum(axis=1)\n",
    "\n",
    "# Total de Engajamento\n",
    "df['CPE'] = df['Valor Gasto (BRL)'].div(df['Engajamento'])\n",
    "\n",
    "# Taxa de reprodução (Número de reproduções)/Alcance\n",
    "df['Play-rate'] = df['Click-to-Play'].div(df['Alcance'])\n",
    "\n",
    "# Tratando valores inf, resultado de divisão por 0\n",
    "df.replace([np.inf, -np.inf], np.nan, inplace=True)"
   ]
  },
  {
   "cell_type": "code",
   "execution_count": 58,
   "metadata": {},
   "outputs": [
    {
     "data": {
      "text/html": [
       "<div>\n",
       "<style scoped>\n",
       "    .dataframe tbody tr th:only-of-type {\n",
       "        vertical-align: middle;\n",
       "    }\n",
       "\n",
       "    .dataframe tbody tr th {\n",
       "        vertical-align: top;\n",
       "    }\n",
       "\n",
       "    .dataframe thead th {\n",
       "        text-align: right;\n",
       "    }\n",
       "</style>\n",
       "<table border=\"1\" class=\"dataframe\">\n",
       "  <thead>\n",
       "    <tr style=\"text-align: right;\">\n",
       "      <th></th>\n",
       "      <th>CPC</th>\n",
       "      <th>CPA</th>\n",
       "      <th>CPE</th>\n",
       "      <th>Engajamento</th>\n",
       "      <th>Tempo médio assistido do vídeo (s)</th>\n",
       "      <th>Videos finalizados</th>\n",
       "    </tr>\n",
       "    <tr>\n",
       "      <th>Editor</th>\n",
       "      <th></th>\n",
       "      <th></th>\n",
       "      <th></th>\n",
       "      <th></th>\n",
       "      <th></th>\n",
       "      <th></th>\n",
       "    </tr>\n",
       "  </thead>\n",
       "  <tbody>\n",
       "    <tr>\n",
       "      <th>Luiz</th>\n",
       "      <td>0.009333</td>\n",
       "      <td>0.009258</td>\n",
       "      <td>0.009199</td>\n",
       "      <td>23889.941606</td>\n",
       "      <td>10.102190</td>\n",
       "      <td>0.155826</td>\n",
       "    </tr>\n",
       "    <tr>\n",
       "      <th>Marcos</th>\n",
       "      <td>0.009284</td>\n",
       "      <td>0.009175</td>\n",
       "      <td>0.009122</td>\n",
       "      <td>25699.611111</td>\n",
       "      <td>10.920635</td>\n",
       "      <td>0.175609</td>\n",
       "    </tr>\n",
       "    <tr>\n",
       "      <th>Osvaldo</th>\n",
       "      <td>0.009529</td>\n",
       "      <td>0.009197</td>\n",
       "      <td>0.009076</td>\n",
       "      <td>26213.000000</td>\n",
       "      <td>11.000000</td>\n",
       "      <td>0.181590</td>\n",
       "    </tr>\n",
       "  </tbody>\n",
       "</table>\n",
       "</div>"
      ],
      "text/plain": [
       "              CPC       CPA       CPE   Engajamento  \\\n",
       "Editor                                                \n",
       "Luiz     0.009333  0.009258  0.009199  23889.941606   \n",
       "Marcos   0.009284  0.009175  0.009122  25699.611111   \n",
       "Osvaldo  0.009529  0.009197  0.009076  26213.000000   \n",
       "\n",
       "         Tempo médio assistido do vídeo (s)  Videos finalizados  \n",
       "Editor                                                           \n",
       "Luiz                              10.102190            0.155826  \n",
       "Marcos                            10.920635            0.175609  \n",
       "Osvaldo                           11.000000            0.181590  "
      ]
     },
     "execution_count": 58,
     "metadata": {},
     "output_type": "execute_result"
    }
   ],
   "source": [
    "df[['Editor','CPC','CPA','CPE','Engajamento','Tempo médio assistido do vídeo (s)','Videos finalizados']].groupby('Editor').mean()"
   ]
  },
  {
   "cell_type": "code",
   "execution_count": 59,
   "metadata": {},
   "outputs": [
    {
     "data": {
      "text/html": [
       "<div>\n",
       "<style scoped>\n",
       "    .dataframe tbody tr th:only-of-type {\n",
       "        vertical-align: middle;\n",
       "    }\n",
       "\n",
       "    .dataframe tbody tr th {\n",
       "        vertical-align: top;\n",
       "    }\n",
       "\n",
       "    .dataframe thead th {\n",
       "        text-align: right;\n",
       "    }\n",
       "</style>\n",
       "<table border=\"1\" class=\"dataframe\">\n",
       "  <thead>\n",
       "    <tr style=\"text-align: right;\">\n",
       "      <th></th>\n",
       "      <th>Editor</th>\n",
       "      <th>CPC</th>\n",
       "      <th>CPA</th>\n",
       "      <th>CPE</th>\n",
       "    </tr>\n",
       "  </thead>\n",
       "  <tbody>\n",
       "    <tr>\n",
       "      <th>0</th>\n",
       "      <td>Luiz</td>\n",
       "      <td>0.009333</td>\n",
       "      <td>0.009258</td>\n",
       "      <td>0.009199</td>\n",
       "    </tr>\n",
       "    <tr>\n",
       "      <th>1</th>\n",
       "      <td>Marcos</td>\n",
       "      <td>0.009284</td>\n",
       "      <td>0.009175</td>\n",
       "      <td>0.009122</td>\n",
       "    </tr>\n",
       "    <tr>\n",
       "      <th>2</th>\n",
       "      <td>Osvaldo</td>\n",
       "      <td>0.009529</td>\n",
       "      <td>0.009197</td>\n",
       "      <td>0.009076</td>\n",
       "    </tr>\n",
       "  </tbody>\n",
       "</table>\n",
       "</div>"
      ],
      "text/plain": [
       "    Editor       CPC       CPA       CPE\n",
       "0     Luiz  0.009333  0.009258  0.009199\n",
       "1   Marcos  0.009284  0.009175  0.009122\n",
       "2  Osvaldo  0.009529  0.009197  0.009076"
      ]
     },
     "execution_count": 59,
     "metadata": {},
     "output_type": "execute_result"
    }
   ],
   "source": [
    "s = df[['Editor','CPC','CPA','CPE']].groupby('Editor').mean().reset_index()\n",
    "s"
   ]
  },
  {
   "cell_type": "code",
   "execution_count": 60,
   "metadata": {},
   "outputs": [
    {
     "data": {
      "image/png": "[encoded data removed]",
      "text/plain": [
       "<Figure size 415.75x360 with 1 Axes>"
      ]
     },
     "metadata": {},
     "output_type": "display_data"
    }
   ],
   "source": [
    "s_melted = pd.melt(s, id_vars = \"Editor\")\n",
    "g = sns.catplot(x = 'Editor', y='value', \n",
    "               hue = 'variable',data=s_melted, kind='point')"
   ]
  },
  {
   "cell_type": "markdown",
   "metadata": {},
   "source": [
    "### Quais ajustes de orçamento você faria considerando a seguinte situação:\n",
    "Você trabalha na área de marketing de uma empresa que possui um produto cujo o preço de venda é de R$ 500,00. Foi finalizado o planejamento e você ficou com a responsabilidade da geração de tráfego e acompanhamento das conversões. Foi disponibilizado um orçamento para divulgação no valor de: R$ 100.000,00. O objetivo esperado de você é utilizar o orçamento para realizar 400 vendas. Com base na situação acima responda a pergunta abaixo. Após rodar 4 campanhas de divulgação por 2 dias você obteve os seguintes resultados:"
   ]
  },
  {
   "cell_type": "code",
   "execution_count": 112,
   "metadata": {},
   "outputs": [
    {
     "name": "stdout",
     "output_type": "stream",
     "text": [
      "Faturamento esperado: R$ 200000.00\n"
     ]
    }
   ],
   "source": [
    "\n",
    "print(f\"Faturamento esperado: R$ {500 * 400 :0.2f}\")"
   ]
  },
  {
   "cell_type": "code",
   "execution_count": 102,
   "metadata": {},
   "outputs": [
    {
     "data": {
      "text/html": [
       "<div>\n",
       "<style scoped>\n",
       "    .dataframe tbody tr th:only-of-type {\n",
       "        vertical-align: middle;\n",
       "    }\n",
       "\n",
       "    .dataframe tbody tr th {\n",
       "        vertical-align: top;\n",
       "    }\n",
       "\n",
       "    .dataframe thead th {\n",
       "        text-align: right;\n",
       "    }\n",
       "</style>\n",
       "<table border=\"1\" class=\"dataframe\">\n",
       "  <thead>\n",
       "    <tr style=\"text-align: right;\">\n",
       "      <th></th>\n",
       "      <th>Campanha</th>\n",
       "      <th>N Vendas</th>\n",
       "      <th>Custo</th>\n",
       "      <th>CPV</th>\n",
       "    </tr>\n",
       "  </thead>\n",
       "  <tbody>\n",
       "    <tr>\n",
       "      <th>0</th>\n",
       "      <td>C1</td>\n",
       "      <td>22</td>\n",
       "      <td>8000</td>\n",
       "      <td>363.636364</td>\n",
       "    </tr>\n",
       "    <tr>\n",
       "      <th>1</th>\n",
       "      <td>C2</td>\n",
       "      <td>13</td>\n",
       "      <td>6000</td>\n",
       "      <td>461.538462</td>\n",
       "    </tr>\n",
       "    <tr>\n",
       "      <th>2</th>\n",
       "      <td>C3</td>\n",
       "      <td>25</td>\n",
       "      <td>4000</td>\n",
       "      <td>160.000000</td>\n",
       "    </tr>\n",
       "    <tr>\n",
       "      <th>3</th>\n",
       "      <td>C4</td>\n",
       "      <td>10</td>\n",
       "      <td>2000</td>\n",
       "      <td>200.000000</td>\n",
       "    </tr>\n",
       "  </tbody>\n",
       "</table>\n",
       "</div>"
      ],
      "text/plain": [
       "  Campanha  N Vendas  Custo         CPV\n",
       "0       C1        22   8000  363.636364\n",
       "1       C2        13   6000  461.538462\n",
       "2       C3        25   4000  160.000000\n",
       "3       C4        10   2000  200.000000"
      ]
     },
     "execution_count": 102,
     "metadata": {},
     "output_type": "execute_result"
    }
   ],
   "source": [
    "\n",
    "df = pd.DataFrame({'Campanha':['C1','C2','C3','C4'], 'N Vendas': [22,13, 25, 10], 'Custo':[8000, 6000, 4000, 2000]})\n",
    "# Custo por venda\n",
    "df['CPV'] = df['Custo'].div(df['N Vendas'])\n",
    "df"
   ]
  },
  {
   "cell_type": "markdown",
   "metadata": {},
   "source": [
    "CPV médio das campanhas"
   ]
  },
  {
   "cell_type": "code",
   "execution_count": 111,
   "metadata": {},
   "outputs": [
    {
     "name": "stdout",
     "output_type": "stream",
     "text": [
      "O CPV médios das campanhas foi de R$ 285,71\n"
     ]
    }
   ],
   "source": [
    "\n",
    "custo_medio_campanhas = df['Custo'].sum()/ df['N Vendas'].sum()\n",
    "print(f\"O CPV médio das campanhas foi de R${custo_medio_campanhas: 0.2f}\".replace('.',','))"
   ]
  },
  {
   "cell_type": "markdown",
   "metadata": {},
   "source": [
    "Orgamento e unidades restantes após 4 campanhas:"
   ]
  },
  {
   "cell_type": "code",
   "execution_count": 88,
   "metadata": {},
   "outputs": [
    {
     "data": {
      "text/plain": [
       "(80000, 330)"
      ]
     },
     "execution_count": 88,
     "metadata": {},
     "output_type": "execute_result"
    }
   ],
   "source": [
    "\n",
    "orcamento_inicial = 100000\n",
    "orcamento_restante = orcamento - df['Custo'].sum()\n",
    "unidades_restantes = 400 - df['N Vendas'].sum()\n",
    "\n",
    "orcamento_restante, unidades_restantes"
   ]
  },
  {
   "cell_type": "markdown",
   "metadata": {},
   "source": [
    "CPV desejado"
   ]
  },
  {
   "cell_type": "code",
   "execution_count": 118,
   "metadata": {},
   "outputs": [
    {
     "name": "stdout",
     "output_type": "stream",
     "text": [
      "O CPV desejado é de: R$ 242.42\n"
     ]
    }
   ],
   "source": [
    "\n",
    "CPV_alvo = orcamento_restante / unidades_restantes\n",
    "print(f\"O CPV desejado é de: R$ {CPV_alvo:0.2f}\")"
   ]
  },
  {
   "cell_type": "markdown",
   "metadata": {},
   "source": [
    "O CPV (Custo por Venda) desejado para a venda das 330 unidades restantes é R$ 242,24, o que pode ser alcançado diminuindo o CPL (Custo por Lead) ou LPV (Leads por Venda). As campanhas C3 e C4 tiveram ótimos CPV's, as estratégias utilizadas nelas poderiam ser repetidas."
   ]
  }
 ],
 "metadata": {
  "interpreter": {
   "hash": "14b4ae039037ba923dbac5b99b9fd78135a5ce880e7b83b06e1c0c2c4162d4fc"
  },
  "kernelspec": {
   "display_name": "Python 3.10.0 ('ads')",
   "language": "python",
   "name": "python3"
  },
  "language_info": {
   "codemirror_mode": {
    "name": "ipython",
    "version": 3
   },
   "file_extension": ".py",
   "mimetype": "text/x-python",
   "name": "python",
   "nbconvert_exporter": "python",
   "pygments_lexer": "ipython3",
   "version": "3.10.0"
  },
  "orig_nbformat": 4
 },
 "nbformat": 4,
 "nbformat_minor": 2
}
